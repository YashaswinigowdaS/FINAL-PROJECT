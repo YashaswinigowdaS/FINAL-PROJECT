{
 "cells": [
  {
   "cell_type": "markdown",
   "id": "9d7b62db",
   "metadata": {},
   "source": [
    "# 👉 1. Add new food items. Food Item will have the following details: 🔴 FoodID //It should be generated automatically by the application. 🔴 Name 🔴 Quantity. For eg, 100ml, 250gm, 4pieces etc 🔴 Price 🔴 Discount 🔴 Stock. Amount left in stock in the restaurant."
   ]
  },
  {
   "cell_type": "code",
   "execution_count": 13,
   "id": "0d7e4c8f",
   "metadata": {},
   "outputs": [
    {
     "name": "stdout",
     "output_type": "stream",
     "text": [
      "1001\n",
      "Pizza\n",
      "4 pieces\n",
      "200\n",
      "10\n",
      "10\n"
     ]
    }
   ],
   "source": [
    "class Food:\n",
    "    food_id = 1001  # static variable to generate FoodID\n",
    "\n",
    "    def __init__(self, name, quantity, price, discount, stock):\n",
    "        self.id = Food.food_id\n",
    "        self.name = name\n",
    "        self.quantity = quantity\n",
    "        self.price = price\n",
    "        self.discount = discount\n",
    "        self.stock = stock\n",
    "        Food.food_id += 1\n",
    "\n",
    "# Create instances of the Food class to represent each food item\n",
    "food1 = Food(\"Pizza\", \"4 pieces\", 200, 10, 10)\n",
    "food2 = Food(\"Burger\", \"1 piece\", 150, 5, 20)\n",
    "\n",
    "# Access the details of a food item\n",
    "print(food1.id)  \n",
    "print(food1.name)  \n",
    "print(food1.quantity) \n",
    "print(food1.price)  \n",
    "print(food1.discount)  \n",
    "print(food1.stock)  "
   ]
  },
  {
   "cell_type": "markdown",
   "id": "7708b645",
   "metadata": {},
   "source": [
    "# 👉 2. Edit food items using FoodID."
   ]
  },
  {
   "cell_type": "code",
   "execution_count": 14,
   "id": "89be8c56",
   "metadata": {},
   "outputs": [
    {
     "name": "stdout",
     "output_type": "stream",
     "text": [
      "1001\n",
      "Veg Pizza\n",
      "4 slices\n",
      "250\n",
      "10\n",
      "10\n"
     ]
    }
   ],
   "source": [
    "class Food:\n",
    "    food_id = 1001  # static variable to generate FoodID\n",
    "    food_items = []  # list to store all food items\n",
    "\n",
    "    def __init__(self, name, quantity, price, discount, stock):\n",
    "        self.id = Food.food_id\n",
    "        self.name = name\n",
    "        self.quantity = quantity\n",
    "        self.price = price\n",
    "        self.discount = discount\n",
    "        self.stock = stock\n",
    "        Food.food_items.append(self)  # add the food item to the list\n",
    "        Food.food_id += 1\n",
    "\n",
    "    @staticmethod\n",
    "    def edit_food(food_id, name=None, quantity=None, price=None, discount=None, stock=None):\n",
    "        for food_item in Food.food_items:\n",
    "            if food_item.id == food_id:\n",
    "                if name:\n",
    "                    food_item.name = name\n",
    "                if quantity:\n",
    "                    food_item.quantity = quantity\n",
    "                if price:\n",
    "                    food_item.price = price\n",
    "                if discount:\n",
    "                    food_item.discount = discount\n",
    "                if stock:\n",
    "                    food_item.stock = stock\n",
    "\n",
    "# Create instances of the Food class to represent each food item\n",
    "food1 = Food(\"Pizza\", \"4 pieces\", 200, 10, 10)\n",
    "food2 = Food(\"Burger\", \"1 piece\", 150, 5, 20)\n",
    "\n",
    "# Edit a food item\n",
    "Food.edit_food(1001, name=\"Veg Pizza\", quantity=\"4 slices\", price=250)\n",
    "\n",
    "# Access the updated details of a food item\n",
    "print(food1.id)  # 1001\n",
    "print(food1.name)  # Veg Pizza\n",
    "print(food1.quantity)  # 4 slices\n",
    "print(food1.price)  \n",
    "print(food1.discount)  \n",
    "print(food1.stock)  \n"
   ]
  },
  {
   "cell_type": "markdown",
   "id": "9a851950",
   "metadata": {},
   "source": [
    "# 👉 3. View the list of all food items."
   ]
  },
  {
   "cell_type": "code",
   "execution_count": 34,
   "id": "b8f2d1cb",
   "metadata": {},
   "outputs": [
    {
     "ename": "NameError",
     "evalue": "name 'foodItem' is not defined",
     "output_type": "error",
     "traceback": [
      "\u001b[1;31m---------------------------------------------------------------------------\u001b[0m",
      "\u001b[1;31mNameError\u001b[0m                                 Traceback (most recent call last)",
      "Cell \u001b[1;32mIn[34], line 1\u001b[0m\n\u001b[1;32m----> 1\u001b[0m food_items \u001b[38;5;241m=\u001b[39m [    \u001b[43mfoodItem\u001b[49m(\u001b[38;5;124m\"\u001b[39m\u001b[38;5;124mPizza\u001b[39m\u001b[38;5;124m\"\u001b[39m, \u001b[38;5;124m\"\u001b[39m\u001b[38;5;124m1 slice\u001b[39m\u001b[38;5;124m\"\u001b[39m, \u001b[38;5;241m10\u001b[39m, \u001b[38;5;241m0\u001b[39m, \u001b[38;5;241m20\u001b[39m),    FoodItem(\u001b[38;5;124m\"\u001b[39m\u001b[38;5;124mBurger\u001b[39m\u001b[38;5;124m\"\u001b[39m, \u001b[38;5;124m\"\u001b[39m\u001b[38;5;124m1 piece\u001b[39m\u001b[38;5;124m\"\u001b[39m, \u001b[38;5;241m5\u001b[39m, \u001b[38;5;241m0\u001b[39m, \u001b[38;5;241m15\u001b[39m),    FoodItem(\u001b[38;5;124m\"\u001b[39m\u001b[38;5;124mFrench Fries\u001b[39m\u001b[38;5;124m\"\u001b[39m, \u001b[38;5;124m\"\u001b[39m\u001b[38;5;124m200g\u001b[39m\u001b[38;5;124m\"\u001b[39m, \u001b[38;5;241m7\u001b[39m, \u001b[38;5;241m0\u001b[39m, \u001b[38;5;241m25\u001b[39m)]\n\u001b[0;32m      3\u001b[0m \u001b[38;5;28;01mfor\u001b[39;00m item \u001b[38;5;129;01min\u001b[39;00m food_items:\n\u001b[0;32m      4\u001b[0m     \u001b[38;5;28mprint\u001b[39m(item)\n",
      "\u001b[1;31mNameError\u001b[0m: name 'foodItem' is not defined"
     ]
    }
   ],
   "source": [
    "\n",
    "food_items = [    foodItem(\"Pizza\", \"1 slice\", 10, 0, 20),    FoodItem(\"Burger\", \"1 piece\", 5, 0, 15),    FoodItem(\"French Fries\", \"200g\", 7, 0, 25)]\n",
    "\n",
    "for item in food_items:\n",
    "    print(item)\n",
    "    print(\"-\" * 20)\n",
    "\n",
    "     "
   ]
  },
  {
   "cell_type": "markdown",
   "id": "2429ec8f",
   "metadata": {},
   "source": [
    "# 👉 4. Remove a food item from the menu using FoodID."
   ]
  },
  {
   "cell_type": "code",
   "execution_count": 4,
   "id": "59679430",
   "metadata": {},
   "outputs": [
    {
     "ename": "NameError",
     "evalue": "name 'FoodItem' is not defined",
     "output_type": "error",
     "traceback": [
      "\u001b[1;31m---------------------------------------------------------------------------\u001b[0m",
      "\u001b[1;31mNameError\u001b[0m                                 Traceback (most recent call last)",
      "Cell \u001b[1;32mIn[4], line 2\u001b[0m\n\u001b[0;32m      1\u001b[0m food_items \u001b[38;5;241m=\u001b[39m [\n\u001b[1;32m----> 2\u001b[0m     \u001b[43mFoodItem\u001b[49m(\u001b[38;5;124m\"\u001b[39m\u001b[38;5;124mPizza\u001b[39m\u001b[38;5;124m\"\u001b[39m, \u001b[38;5;124m\"\u001b[39m\u001b[38;5;124m1 slice\u001b[39m\u001b[38;5;124m\"\u001b[39m, \u001b[38;5;241m10\u001b[39m, \u001b[38;5;241m0\u001b[39m, \u001b[38;5;241m20\u001b[39m),\n\u001b[0;32m      3\u001b[0m     FoodItem(\u001b[38;5;124m\"\u001b[39m\u001b[38;5;124mBurger\u001b[39m\u001b[38;5;124m\"\u001b[39m, \u001b[38;5;124m\"\u001b[39m\u001b[38;5;124m1 piece\u001b[39m\u001b[38;5;124m\"\u001b[39m, \u001b[38;5;241m5\u001b[39m, \u001b[38;5;241m0\u001b[39m, \u001b[38;5;241m15\u001b[39m),\n\u001b[0;32m      4\u001b[0m     FoodItem(\u001b[38;5;124m\"\u001b[39m\u001b[38;5;124mFrench Fries\u001b[39m\u001b[38;5;124m\"\u001b[39m, \u001b[38;5;124m\"\u001b[39m\u001b[38;5;124m200g\u001b[39m\u001b[38;5;124m\"\u001b[39m, \u001b[38;5;241m7\u001b[39m, \u001b[38;5;241m0\u001b[39m, \u001b[38;5;241m25\u001b[39m)\n\u001b[0;32m      5\u001b[0m ]\n\u001b[0;32m      7\u001b[0m \u001b[38;5;28;01mdef\u001b[39;00m \u001b[38;5;21mremove_food_item\u001b[39m(food_items, food_id):\n\u001b[0;32m      8\u001b[0m     \u001b[38;5;28;01mfor\u001b[39;00m i, item \u001b[38;5;129;01min\u001b[39;00m \u001b[38;5;28menumerate\u001b[39m(food_items):\n",
      "\u001b[1;31mNameError\u001b[0m: name 'FoodItem' is not defined"
     ]
    }
   ],
   "source": [
    "food_items = [\n",
    "    FoodItem(\"Pizza\", \"1 slice\", 10, 0, 20),\n",
    "    FoodItem(\"Burger\", \"1 piece\", 5, 0, 15),\n",
    "    FoodItem(\"French Fries\", \"200g\", 7, 0, 25)\n",
    "]\n",
    "\n",
    "def remove_food_item(food_items, food_id):\n",
    "    for i, item in enumerate(food_items):\n",
    "        if item.food_id == food_id:\n",
    "            food_items.pop(i)\n",
    "            return True\n",
    "    return False\n",
    "\n",
    "remove_food_item(food_items, 2)\n",
    "\n",
    "for item in food_items:\n",
    "    print(item)\n",
    "    print(\"-\" * 20)\n",
    "\n",
    "     "
   ]
  },
  {
   "cell_type": "markdown",
   "id": "b69efddb",
   "metadata": {},
   "source": [
    "# 👉 1. Register on the application. Following to be entered for registration: 🔴 Full Name 🔴 Phone Number 🔴 Email 🔴 Address 🔴 Password"
   ]
  },
  {
   "cell_type": "code",
   "execution_count": 23,
   "id": "7a619269",
   "metadata": {},
   "outputs": [
    {
     "name": "stdout",
     "output_type": "stream",
     "text": [
      "1001\n",
      "yashaswini\n",
      "9876543210\n",
      "yashaswini33@gmail.com\n",
      "1st Main RK Extension\n",
      "yashu1100\n"
     ]
    }
   ],
   "source": [
    "class User:\n",
    "    user_id = 1001  # static variable to generate UserID\n",
    "    users = []  # list to store all users\n",
    "\n",
    "    def __init__(self, full_name, phone, email, address, password):\n",
    "        self.id = User.user_id\n",
    "        self.full_name = full_name\n",
    "        self.phone = phone\n",
    "        self.email = email\n",
    "        self.address = address\n",
    "        self.password = password\n",
    "        User.users.append(self)  # add the user to the list of users\n",
    "        User.user_id += 1\n",
    "\n",
    "# Create an instance of the User class to represent each user\n",
    "user1 = User(\"yashaswini\", \"9876543210\", \"yashaswini33@gmail.com\", \"1st Main RK Extension\", \"yashu1100\")\n",
    "user2 = User(\"manya\", \"1234567890\", \"manya33@gmail.com\", \"2 Main CMC layout\", \"manya7711\")\n",
    "\n",
    "# Access the details of a user\n",
    "print(user1.id)  # 1001\n",
    "print(user1.full_name)\n",
    "print(user1.phone)  # 9876543210\n",
    "print(user1.email)\n",
    "print(user1.address)  \n",
    "print(user1.password)  \n"
   ]
  },
  {
   "cell_type": "markdown",
   "id": "845e4978",
   "metadata": {},
   "source": [
    "# 👉 2. Log in to the application"
   ]
  },
  {
   "cell_type": "code",
   "execution_count": 6,
   "id": "9139502a",
   "metadata": {},
   "outputs": [],
   "source": [
    "class User:\n",
    "    user_id = 1001  # static variable to generate UserID\n",
    "    users = []  # list to store all users\n",
    "\n",
    "    def __init__(self, full_name, phone, email, address, password):\n",
    "        self.id = User.user_id\n",
    "        self.full_name = full_name\n",
    "        self.phone = phone"
   ]
  },
  {
   "cell_type": "markdown",
   "id": "288d1f3d",
   "metadata": {},
   "source": [
    "# 👉 3. The user will see 3 options: 🔴 Place New Order 🔴 Order History 🔴 Update Profile"
   ]
  },
  {
   "cell_type": "code",
   "execution_count": 24,
   "id": "71feef96",
   "metadata": {},
   "outputs": [
    {
     "name": "stdout",
     "output_type": "stream",
     "text": [
      "Select an option:\n",
      "1. Place New Order\n",
      "2. Order History\n",
      "3. Update Profile\n",
      "Enter option number: 1\n",
      "Enter food item: pizza\n",
      "Enter quantity: 4\n",
      "Order placed for pizza (4)\n"
     ]
    }
   ],
   "source": [
    "class User:\n",
    "    user_id = 1001  # static variable to generate UserID\n",
    "    users = []  # list to store all users\n",
    "\n",
    "    def __init__(self, full_name, phone, email, address, password):\n",
    "        self.id = User.user_id\n",
    "        self.full_name = full_name\n",
    "        self.phone = phone\n",
    "        self.email = email\n",
    "        self.address = address\n",
    "        self.password = password\n",
    "        self.orders = []  # list to store the user's orders\n",
    "        User.users.append(self)  # add the user to the list of users\n",
    "        User.user_id += 1\n",
    "\n",
    "    def place_new_order(self, food_item, quantity):\n",
    "        \"\"\"Place a new order for a food item\"\"\"\n",
    "        order = {\"food_item\": food_item, \"quantity\": quantity}\n",
    "        self.orders.append(order)\n",
    "        print(f\"Order placed for {food_item} ({quantity})\")\n",
    "\n",
    "    def view_order_history(self):\n",
    "        \"\"\"View the history of the user's orders\"\"\"\n",
    "        print(\"Order History:\")\n",
    "        for order in self.orders:\n",
    "            print(f\"Food Item: {order['food_item']} Quantity: {order['quantity']}\")\n",
    "\n",
    "    def update_profile(self, full_name=None, phone=None, email=None, address=None, password=None):\n",
    "        \"\"\"Update the user's profile information\"\"\"\n",
    "        if full_name:\n",
    "            self.full_name = full_name\n",
    "        if phone:\n",
    "            self.phone = phone\n",
    "        if email:\n",
    "            self.email = email\n",
    "        if address:\n",
    "            self.address = address\n",
    "        if password:\n",
    "            self.password = password\n",
    "        print(\"Profile updated successfully\")\n",
    "\n",
    "# Create an instance of the User class to represent each user\n",
    "user1 = User(\"Nishu\", \"9876543210\", \"nishu@example.com\", \"1 Main MK badavane, NY\", \"Nishu777\")\n",
    "\n",
    "# Log in to the application\n",
    "logged_in_user = user1\n",
    "\n",
    "# Show the options for the logged-in user\n",
    "print(\"Select an option:\")\n",
    "print(\"1. Place New Order\")\n",
    "print(\"2. Order History\")\n",
    "print(\"3. Update Profile\")\n",
    "\n",
    "# Handle the user's selection\n",
    "option = int(input(\"Enter option number: \"))\n",
    "if option == 1:\n",
    "    food_item = input(\"Enter food item: \")\n",
    "    quantity = int(input(\"Enter quantity: \"))\n",
    "    logged_in_user.place_new_order(food_item, quantity)\n",
    "elif option == 2:\n",
    "    logged_in_user.view_order_history()\n",
    "elif option == 3:\n",
    "    full_name = input(\"Enter full name (Press enter to skip): \")\n",
    "    phone = input(\"Enter phone (Press enter to skip): \")\n",
    "    email = input(\"Enter email (Press enter to skip): \")\n",
    "    address = input(\"Enter address (Press enter to skip): \")\n",
    "    password = input(\"Enter password (Press enter to skip): \")\n",
    "    logged_in_user.update_profile(full_name, phone, email, address, password)\n",
    "else:\n",
    "    print(\"Invalid\")\n"
   ]
  },
  {
   "cell_type": "markdown",
   "id": "37bd338b",
   "metadata": {},
   "source": [
    "# 👉 4. Place New Order: The user can place a new order at the restaurant. 🔵 Show list of food. The list item should as follows: 🔴 Tandoori Chicken (4 pieces) [INR 240] 🔴 Vegan Burger (1 Piece) [INR 320] 🔴 Truffle Cake (500gm) [INR 900]"
   ]
  },
  {
   "cell_type": "code",
   "execution_count": 25,
   "id": "624481b7",
   "metadata": {},
   "outputs": [
    {
     "name": "stdout",
     "output_type": "stream",
     "text": [
      "Tandoori Chicken (4 pieces) [INR 240]\n",
      "Vegan Burger (1 Piece) [INR 320]\n",
      "Truffle Cake (500gm) [INR 900]\n"
     ]
    }
   ],
   "source": [
    "class Food:\n",
    "    def __init__(self, food_id, name, quantity, price, discount, stock):\n",
    "        self.food_id = food_id\n",
    "        self.name = name\n",
    "        self.quantity = quantity\n",
    "        self.price = price\n",
    "        self.discount = discount\n",
    "        self.stock = stock\n",
    "\n",
    "    def __str__(self):\n",
    "        return \"{} ({}) [INR {}]\".format(self.name, self.quantity, self.price)\n",
    "\n",
    "class Order:\n",
    "    def __init__(self, food, quantity):\n",
    "        self.food = food\n",
    "        self.quantity = quantity\n",
    "\n",
    "    def __str__(self):\n",
    "        return \"{} x {}\".format(self.food.name, self.quantity)\n",
    "\n",
    "class User:\n",
    "    def __init__(self, name, phone, email, address, password):\n",
    "        self.name = name\n",
    "        self.phone = phone\n",
    "        self.email = email\n",
    "        self.address = address\n",
    "        self.password = password\n",
    "\n",
    "class Restaurant:\n",
    "    def __init__(self):\n",
    "        self.foods = []\n",
    "        self.orders = []\n",
    "        self.users = []\n",
    "\n",
    "    def add_food(self, food):\n",
    "        self.foods.append(food)\n",
    "\n",
    "    def view_foods(self):\n",
    "        for food in self.foods:\n",
    "            print(food)\n",
    "\n",
    "    def place_order(self, user, order):\n",
    "        self.orders.append((user, order))\n",
    "        self.foods[order.food].stock -= order.quantity\n",
    "\n",
    "# Example usage\n",
    "restaurant = Restaurant()\n",
    "food1 = Food(1, \"Tandoori Chicken\", \"4 pieces\", 240, 0, 10)\n",
    "food2 = Food(2, \"Vegan Burger\", \"1 Piece\", 320, 0, 5)\n",
    "food3 = Food(3, \"Truffle Cake\", \"500gm\", 900, 0, 3)\n",
    "restaurant.add_food(food1)\n",
    "restaurant.add_food(food2)\n",
    "restaurant.add_food(food3)\n",
    "restaurant.view_foods()\n",
    "# Output:\n",
    "# Tandoori Chicken (4 pieces) [INR 240]\n",
    "# Vegan Burger (1 Piece) [INR 320]\n",
    "# Truffle Cake (500gm) [INR 900]\n",
    "\n",
    "user = User(\"Nishu\", \"+91 1234567890\", \"nishu@example.com\", \"1 main MK Badavane\", \"Nishu777\")\n",
    "order = Order(0, 2)\n",
    "restaurant.place_order(user, order)\n"
   ]
  },
  {
   "cell_type": "markdown",
   "id": "8a21685e",
   "metadata": {},
   "source": [
    "# 5. Users should be able to select food by entering an array of numbers. For example, if the user wants to order Vegan Burger and Truffle Cake they should enter [2, 3]"
   ]
  },
  {
   "cell_type": "code",
   "execution_count": 9,
   "id": "6406db89",
   "metadata": {},
   "outputs": [
    {
     "ename": "NameError",
     "evalue": "name 'food_items' is not defined",
     "output_type": "error",
     "traceback": [
      "\u001b[1;31m---------------------------------------------------------------------------\u001b[0m",
      "\u001b[1;31mNameError\u001b[0m                                 Traceback (most recent call last)",
      "Cell \u001b[1;32mIn[9], line 6\u001b[0m\n\u001b[0;32m      3\u001b[0m     order \u001b[38;5;241m=\u001b[39m Order([food_items[food_item_id \u001b[38;5;241m-\u001b[39m \u001b[38;5;241m1\u001b[39m] \u001b[38;5;28;01mfor\u001b[39;00m food_item_id \u001b[38;5;129;01min\u001b[39;00m food_item_ids])\n\u001b[0;32m      4\u001b[0m     \u001b[38;5;28;01mreturn\u001b[39;00m order\n\u001b[1;32m----> 6\u001b[0m order \u001b[38;5;241m=\u001b[39m place_new_order(\u001b[43mfood_items\u001b[49m)\n\u001b[0;32m      7\u001b[0m \u001b[38;5;28mprint\u001b[39m(\u001b[38;5;124m\"\u001b[39m\u001b[38;5;124mOrder:\u001b[39m\u001b[38;5;124m\"\u001b[39m, order\u001b[38;5;241m.\u001b[39mfood_items)\n",
      "\u001b[1;31mNameError\u001b[0m: name 'food_items' is not defined"
     ]
    }
   ],
   "source": [
    "def place_new_order(food_items):\n",
    "    food_item_ids = [int(x) for x in input(\"Enter a list of Food IDs (e.g. 2 3): \").split()]\n",
    "    order = Order([food_items[food_item_id - 1] for food_item_id in food_item_ids])\n",
    "    return order\n",
    "\n",
    "order = place_new_order(food_items)\n",
    "print(\"Order:\", order.food_items)"
   ]
  },
  {
   "cell_type": "markdown",
   "id": "4faa74a2",
   "metadata": {},
   "source": [
    "# 👉 6. Once the items are selected user should see the list of all the items selected. The user will also get an option to place an order."
   ]
  },
  {
   "cell_type": "code",
   "execution_count": 33,
   "id": "76861ead",
   "metadata": {},
   "outputs": [
    {
     "ename": "NameError",
     "evalue": "name 'food_items' is not defined",
     "output_type": "error",
     "traceback": [
      "\u001b[1;31m---------------------------------------------------------------------------\u001b[0m",
      "\u001b[1;31mNameError\u001b[0m                                 Traceback (most recent call last)",
      "Cell \u001b[1;32mIn[33], line 15\u001b[0m\n\u001b[0;32m     12\u001b[0m     \u001b[38;5;28;01melse\u001b[39;00m:\n\u001b[0;32m     13\u001b[0m         \u001b[38;5;28;01mreturn\u001b[39;00m \u001b[38;5;28;01mNone\u001b[39;00m\n\u001b[1;32m---> 15\u001b[0m order \u001b[38;5;241m=\u001b[39m place_new_order(\u001b[43mfood_items\u001b[49m)\n\u001b[0;32m     16\u001b[0m \u001b[38;5;28;01mif\u001b[39;00m order \u001b[38;5;129;01mis\u001b[39;00m \u001b[38;5;129;01mnot\u001b[39;00m \u001b[38;5;28;01mNone\u001b[39;00m:\n\u001b[0;32m     17\u001b[0m     \u001b[38;5;28mprint\u001b[39m(\u001b[38;5;124m\"\u001b[39m\u001b[38;5;124mOrder placed:\u001b[39m\u001b[38;5;124m\"\u001b[39m, order\u001b[38;5;241m.\u001b[39mfood_items)\n",
      "\u001b[1;31mNameError\u001b[0m: name 'food_items' is not defined"
     ]
    }
   ],
   "source": [
    "\n",
    "def place_new_order(food_items):\n",
    "    food_item_ids = [int(x) for x in input(\"Enter a list of Food IDs (e.g. 2 3): \").split()]\n",
    "    selected_food_items = [food_items[food_item_id - 1] for food_item_id in food_item_ids]\n",
    "    print(\"Selected Food Items:\")\n",
    "    for i, food_item in enumerate(selected_food_items):\n",
    "        print(f\"{i + 1}. {food_item.name} ({food_item.quantity}) [INR {food_item.price}]\")\n",
    "\n",
    "    confirm_order = input(\"Place order? (y/n): \")\n",
    "    if confirm_order.lower() == \"y\":\n",
    "        order = Order(selected_food_items)\n",
    "        return order\n",
    "    else:\n",
    "        return None\n",
    "\n",
    "order = place_new_order(food_items)\n",
    "if order is not None:\n",
    "    print(\"Order placed:\", order.food_items)\n",
    "else:\n",
    "    print(\"Order cancelled.\")\n"
   ]
  },
  {
   "cell_type": "markdown",
   "id": "ec37e0e1",
   "metadata": {},
   "source": [
    "# 👉 7. Order History should show a list of all the previous orders"
   ]
  },
  {
   "cell_type": "code",
   "execution_count": 31,
   "id": "645b28f8",
   "metadata": {},
   "outputs": [
    {
     "ename": "NameError",
     "evalue": "name 'food_items' is not defined",
     "output_type": "error",
     "traceback": [
      "\u001b[1;31m---------------------------------------------------------------------------\u001b[0m",
      "\u001b[1;31mNameError\u001b[0m                                 Traceback (most recent call last)",
      "Cell \u001b[1;32mIn[31], line 19\u001b[0m\n\u001b[0;32m     16\u001b[0m             \u001b[38;5;28mprint\u001b[39m(\u001b[38;5;124mf\u001b[39m\u001b[38;5;124m\"\u001b[39m\u001b[38;5;124mOrder \u001b[39m\u001b[38;5;132;01m{\u001b[39;00mi \u001b[38;5;241m+\u001b[39m \u001b[38;5;241m1\u001b[39m\u001b[38;5;132;01m}\u001b[39;00m\u001b[38;5;124m: \u001b[39m\u001b[38;5;132;01m{\u001b[39;00morder\u001b[38;5;241m.\u001b[39mfood_items\u001b[38;5;132;01m}\u001b[39;00m\u001b[38;5;124m\"\u001b[39m)\n\u001b[0;32m     18\u001b[0m user \u001b[38;5;241m=\u001b[39m User(\u001b[38;5;124m\"\u001b[39m\u001b[38;5;124mNishu\u001b[39m\u001b[38;5;124m\"\u001b[39m, \u001b[38;5;124m\"\u001b[39m\u001b[38;5;124m1234567890\u001b[39m\u001b[38;5;124m\"\u001b[39m, \u001b[38;5;124m\"\u001b[39m\u001b[38;5;124mnishu@example.com\u001b[39m\u001b[38;5;124m\"\u001b[39m, \u001b[38;5;124m\"\u001b[39m\u001b[38;5;124m1 Main MK Badavane\u001b[39m\u001b[38;5;124m\"\u001b[39m, \u001b[38;5;124m\"\u001b[39m\u001b[38;5;124mNishu777\u001b[39m\u001b[38;5;124m\"\u001b[39m)\n\u001b[1;32m---> 19\u001b[0m order \u001b[38;5;241m=\u001b[39m Order([\u001b[43mfood_items\u001b[49m[\u001b[38;5;241m0\u001b[39m], food_items[\u001b[38;5;241m2\u001b[39m]])\n\u001b[0;32m     20\u001b[0m user\u001b[38;5;241m.\u001b[39mplace_order(order)\n\u001b[0;32m     21\u001b[0m user\u001b[38;5;241m.\u001b[39mview_order_history()\n",
      "\u001b[1;31mNameError\u001b[0m: name 'food_items' is not defined"
     ]
    }
   ],
   "source": [
    "\n",
    "class User:\n",
    "    def __init__(self, name, phone_number, email, address, password):\n",
    "        self.name = name\n",
    "        self.phone_number = phone_number\n",
    "        self.email = email\n",
    "        self.address = address\n",
    "        self.password = password\n",
    "        self.orders = []\n",
    "\n",
    "    def place_order(self, order):\n",
    "        self.orders.append(order)\n",
    "\n",
    "    def view_order_history(self):\n",
    "        print(\"Order History:\")\n",
    "        for i, order in enumerate(self.orders):\n",
    "            print(f\"Order {i + 1}: {order.food_items}\")\n",
    "\n",
    "user = User(\"Nishu\", \"1234567890\", \"nishu@example.com\", \"1 Main MK Badavane\", \"Nishu777\")\n",
    "order = Order([food_items[0], food_items[2]])\n",
    "user.place_order(order)\n",
    "user.view_order_history()\n",
    "\n"
   ]
  },
  {
   "cell_type": "markdown",
   "id": "0f8e7153",
   "metadata": {},
   "source": [
    "# 👉 8. Update Profile: the user should be able to update their profile."
   ]
  },
  {
   "cell_type": "code",
   "execution_count": 32,
   "id": "f36e906b",
   "metadata": {},
   "outputs": [
    {
     "name": "stdout",
     "output_type": "stream",
     "text": [
      "Bhoomika\n",
      "0987654321\n"
     ]
    }
   ],
   "source": [
    "\n",
    "class User:\n",
    "    def __init__(self, name, phone_number, email, address, password):\n",
    "        self.name = name\n",
    "        self.phone_number = phone_number\n",
    "        self.email = email\n",
    "        self.address = address\n",
    "        self.password = password\n",
    "        self.orders = []\n",
    "\n",
    "    def place_order(self, order):\n",
    "        self.orders.append(order)\n",
    "\n",
    "    def view_order_history(self):\n",
    "        print(\"Order History:\")\n",
    "        for i, order in enumerate(self.orders):\n",
    "            print(f\"Order {i + 1}: {order.food_items}\")\n",
    "\n",
    "    def update_profile(self, name=None, phone_number=None, email=None, address=None, password=None):\n",
    "        if name:\n",
    "            self.name = name\n",
    "        if phone_number:\n",
    "            self.phone_number = phone_number\n",
    "        if email:\n",
    "            self.email = email\n",
    "        if address:\n",
    "            self.address = address\n",
    "        if password:\n",
    "            self.password = password\n",
    "\n",
    "user = User(\"Nishu\", \"1234567890\", \"nishu@example.com\", \"1 Main MK Badavane\", \"Nishu777\")\n",
    "user.update_profile(name=\"Bhoomika\", phone_number=\"0987654321\")\n",
    "print(user.name)\n",
    "print(user.phone_number)\n",
    "\n",
    "     "
   ]
  },
  {
   "cell_type": "code",
   "execution_count": null,
   "id": "984ec322",
   "metadata": {},
   "outputs": [],
   "source": []
  }
 ],
 "metadata": {
  "kernelspec": {
   "display_name": "Python 3 (ipykernel)",
   "language": "python",
   "name": "python3"
  },
  "language_info": {
   "codemirror_mode": {
    "name": "ipython",
    "version": 3
   },
   "file_extension": ".py",
   "mimetype": "text/x-python",
   "name": "python",
   "nbconvert_exporter": "python",
   "pygments_lexer": "ipython3",
   "version": "3.11.0"
  }
 },
 "nbformat": 4,
 "nbformat_minor": 5
}
